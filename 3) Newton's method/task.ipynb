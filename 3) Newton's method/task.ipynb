{
 "cells": [
  {
   "cell_type": "markdown",
   "metadata": {},
   "source": [
    "# Задание"
   ]
  },
  {
   "cell_type": "markdown",
   "metadata": {},
   "source": [
    "Рассмотрите по вариантам следующие задачи оптимизации:\n",
    "* Log-optimal investment strategy without the constraint $x≥0$ ([ex. 4.60, p. 209](https://web.stanford.edu/~boyd/cvxbook/bv_cvxbook.pdf#page=223) and [10.14, p. 559](https://web.stanford.edu/~boyd/cvxbook/bv_cvxbook.pdf#page=573));\n",
    "* Equality constrained analytic centering ([p. 548](https://web.stanford.edu/~boyd/cvxbook/bv_cvxbook.pdf#page=562));\n",
    "\n",
    "$\\to$ Equality constrained entropy maximization ([10.9, p. 558](https://web.stanford.edu/~boyd/cvxbook/bv_cvxbook.pdf#page=572));\n",
    "* Minimizing a separable function subject to an equality constraint, $f_i(x_i) = x_i^4$, $i∈\\{1, ..., n\\}$ ([ex. 5.4, p. 248](https://web.stanford.edu/~boyd/cvxbook/bv_cvxbook.pdf#page=262));\n",
    "* Optimal allocation with resource constraint, $f_i(x_i) = a_ie^{x_i} , a_i > 0$, $i ∈\\{1, ..., n\\}$ ([ex. 10.1, p. 523](https://web.stanford.edu/~boyd/cvxbook/bv_cvxbook.pdf#page=537))."
   ]
  },
  {
   "cell_type": "markdown",
   "metadata": {},
   "source": [
    "Дана следующая задача: $f(x) = \\sum_{i=1}^{n}x_i log_2 x_i \\to min$.\n",
    "\n",
    "При ограничении: $Ax=b$.\n",
    "\n",
    "Где $x ∈ R_{++}^2$, $A ∈ R^{m*n}$"
   ]
  },
  {
   "cell_type": "markdown",
   "metadata": {},
   "source": [
    "1) Исследуйте задачу на выпуклость. Запишите необходимые условия минимума и двойственную задачу. \n",
    "2) Для каждого значения размерности $n ∈ \\{10, 20, ..., 100\\}$ сгенерируйте $N = 100$ тестовых примеров (необходимо проверять, чтобы целевая функция на допустимом множестве была ограни-\n",
    "чена снизу). В каждом случае найдите глобальный минимум, $x^∗ ∈R^n$, с помощью CVX.\n",
    "3) Для каждого значения $n ∈ \\{10, 20, ..., 100\\}$ и для каждого тестового примера сгенерируйте 100 начальных точек. Для заданной точности $ε = 0.01$ по значению функции решите задачу с помощью прямого и двойственного метода Ньютона (стандартный метод Ньютона для решения двойственной задачи). Приведите необходимые аналитические вычисления.\n",
    "4) В качестве результата работы метода:\n",
    "    * Для каждого метода и значений $n ∈\\{10, 20, ..., 100\\}$ среднее время работы метода и среднее число итераций (усреднение проводится по всем начальным точкам и по всем тестовым примерам). Сколько арифметических операций требуется для выполнения одной итерации метода?\n",
    "    * Для одного тестового примера при $n = 10$ и нескольких различных начальных точек постройте зависимость точности по значению функции от числа итераций. Сравните полученные результаты для прямого и двойственного метода."
   ]
  },
  {
   "cell_type": "markdown",
   "metadata": {},
   "source": [
    "# Настройки/Импорты"
   ]
  },
  {
   "cell_type": "markdown",
   "metadata": {},
   "source": [
    "Версии важных модулей:\n",
    "* cvxpy==1.4.3\n",
    "* numpy==1.23.0"
   ]
  },
  {
   "cell_type": "code",
   "execution_count": 2,
   "metadata": {},
   "outputs": [],
   "source": [
    "import cvxpy as cp # солвер для задач\n",
    "import numpy as np # для работы с массивами\n",
    "\n"
   ]
  },
  {
   "cell_type": "code",
   "execution_count": 21,
   "metadata": {},
   "outputs": [],
   "source": [
    "n = np.arange(10, 101, 10) # возможные значения n (число переменных в задаче ~ размерность пространства) от 10 до 100 включительно\n",
    "m = (n/2).astype(np.int32) # первая размерность матрицы A (должна быть меньше n, например, в два раза меньше n)\n",
    "N = 100 # число тестовых примеров для каждого значения n\n",
    "P = 100 # число начальных точек для каждого примера N\n",
    "ε = 0.01 # необходимая точность\n",
    "\n",
    "DIM = 10 # интересующая нас размерность пространства, на которой будут проходить тесты"
   ]
  },
  {
   "cell_type": "markdown",
   "metadata": {},
   "source": [
    "# Вспомогательные функции"
   ]
  },
  {
   "cell_type": "markdown",
   "metadata": {},
   "source": [
    "Целевая функция $f(x) = \\sum_{i=1}^{n}x_i log_2 x_i \\to min$, где $x ∈ R_{++}^2$, $A ∈ R^{m*n}$. <br>\n",
    "Что аналогично матричному виду: $x^T log_2 x \\to min$.\n",
    "\n",
    "Её ограничение: $Ax=b$.\n",
    "\n",
    "Производная: $∇f(x) = log_2 x + \\frac{1}{ln2}$.\n",
    "\n",
    "Гессиан: $∇^2f(x) = \\frac{1}{xln2}$."
   ]
  },
  {
   "cell_type": "code",
   "execution_count": 29,
   "metadata": {},
   "outputs": [],
   "source": [
    "def func(x: np.array) -> np.float32:\n",
    "    \"\"\"\n",
    "    Функция из задачи.\\n\n",
    "    Parameters:\n",
    "        * x: текущие значения x (в виде столбца)\\n\n",
    "    Returns:\n",
    "        * np.float32: значение функции в точке x\n",
    "    \"\"\"\n",
    "    return x.T @ np.log2(x)"
   ]
  },
  {
   "cell_type": "code",
   "execution_count": null,
   "metadata": {},
   "outputs": [],
   "source": [
    "def func_grad(x: np.array) -> np.array:\n",
    "    \"\"\"\n",
    "    Производная функции из задачи.\\n\n",
    "    Parameters:\n",
    "        * x: текущие значения x (в виде столбца)\\n\n",
    "    Returns:\n",
    "        * np.array: вектор-столбец градиента функции в точке x\n",
    "    \"\"\"\n",
    "    return np.log2(x) + 1/np.log(2)"
   ]
  },
  {
   "cell_type": "code",
   "execution_count": 13,
   "metadata": {},
   "outputs": [],
   "source": [
    "def func_hessian(x: np.array) -> np.array:\n",
    "    \"\"\"\n",
    "    Гессиан (матрица вторых производных) функции из задачи.\\n\n",
    "    Parameters:\n",
    "        * x: текущие значения x (в виде столбца)\\n\n",
    "    Returns:\n",
    "        * np.array: матрица вторых производных функции в точке x\n",
    "    \"\"\"\n",
    "    return 1/(x*np.log(2))"
   ]
  },
  {
   "cell_type": "code",
   "execution_count": null,
   "metadata": {},
   "outputs": [],
   "source": [
    "def constraints(x: np.array, A: np.array, b: np.array) -> bool:\n",
    "    \"\"\"\n",
    "    Функция для проверка решения на допустимость.\\n\n",
    "    Parameters:\n",
    "        * x: текущие значения x (в виде вектора-столбца)\n",
    "        * A: матрица A\n",
    "        * b: значение ограничений\\n\n",
    "    Returns:\n",
    "        * bool: True — если решение допустимо, иначе — False\n",
    "    \"\"\"\n",
    "    return A @ x == b # квадрат евклидовой нормы решения должен быть ≤ 1"
   ]
  },
  {
   "cell_type": "code",
   "execution_count": 15,
   "metadata": {},
   "outputs": [],
   "source": [
    "x = np.array([[1],[2],[3]])\n",
    "# x * np.log2(x)"
   ]
  },
  {
   "cell_type": "code",
   "execution_count": 16,
   "metadata": {},
   "outputs": [
    {
     "data": {
      "text/plain": [
       "array([[1.44269504],\n",
       "       [0.72134752],\n",
       "       [0.48089835]])"
      ]
     },
     "execution_count": 16,
     "metadata": {},
     "output_type": "execute_result"
    }
   ],
   "source": [
    "func_hessian(x)"
   ]
  },
  {
   "cell_type": "markdown",
   "metadata": {},
   "source": [
    "# 1) Исследование задачи на выпуклость. Необходимые условия минимума. Двойственная задача."
   ]
  },
  {
   "cell_type": "markdown",
   "metadata": {},
   "source": [
    "Данная задача считается решаемой тогда и только тогда, когда $rank(A) = p < n$."
   ]
  },
  {
   "cell_type": "markdown",
   "metadata": {},
   "source": [
    "## Выпуклость."
   ]
  },
  {
   "cell_type": "markdown",
   "metadata": {},
   "source": [
    "**Определения:**\n",
    "1) Функция $f(x)$ считается ***convex*** (выпуклой вниз), если для $∀x,y ∈ X ⊂ R^n, ∀γ∈$ отрузку $[0, 1]$ выполняется неравенство: $f(γx + (1-γ)y) ≤ γf(x) + (1-γ)f(y)$. Другими словами — функция выпукла, если любая хорда, соединяющая две точки функции, лежит не ниже самой функции. <br>\n",
    "![Определение выпуклой вниз функции](./images/convex.png)"
   ]
  },
  {
   "cell_type": "code",
   "execution_count": 31,
   "metadata": {},
   "outputs": [
    {
     "name": "stdout",
     "output_type": "stream",
     "text": [
      "Функция прошла проверку на выпуклость!\n"
     ]
    }
   ],
   "source": [
    "for i in range(N): # идём по числу тест-кейсов\n",
    "    x, y = np.random.rand(DIM, 1), np.random.rand(DIM, 1) # случайно генерируем точки x и y в пространстве размерности DIM ((DIM, 1) — для вектора-столбца)\n",
    "    γ = np.random.uniform(low=0, high=1) # случайное соотношение x и y (равномерное от 0 до 1)\n",
    "    if not func(γ*x+(1-γ)*y) <= γ * func(x) + (1-γ) * func(y): # если условие выпуклости нарушено\n",
    "        raise Exception(\"Условие выпуклости нарушено!\") # выкидываем исключение\n",
    "\n",
    "print(\"Функция прошла проверку на выпуклость!\")"
   ]
  },
  {
   "cell_type": "markdown",
   "metadata": {},
   "source": [
    "Под ограничением $Ax=b$ понимается пересечение плоскостей (при этом таких плоскостей меньше, чем размерность пространства, $m<n$). Каждая плоскость является выпуклым множеством. Очевидно, что пересечение выпуклых множеств будет выпуклым.\n",
    "\n",
    "![Определение выпуклой вниз функции](./images/constraints_intersection.png)"
   ]
  },
  {
   "cell_type": "markdown",
   "metadata": {},
   "source": [
    "## Условие минимума."
   ]
  },
  {
   "cell_type": "markdown",
   "metadata": {},
   "source": [
    "Необходимое условие минимума функции: если функция $f(x)$ имеет минимум в точке $х = а$, то в этой точке производная либо **равна нулю**, либо **не существует** (равна бесконечности)."
   ]
  },
  {
   "cell_type": "markdown",
   "metadata": {},
   "source": [
    "## Двойственная задача."
   ]
  },
  {
   "cell_type": "markdown",
   "metadata": {},
   "source": [
    "Построим двойственную задачу по аналогии из предыдущей лабораторной работу.\n",
    "\n",
    "Изначально целевая функция имеет вид: $f(x) = \\sum_{i=1}^{n}x_i log_2 x_i = x^T log_2 x\\to min$. <br>\n",
    "А ограничение: $Ax=b$.\n",
    "\n",
    "Тогда её функция Лагранжа $L(x, λ)$ имеет вид: \n",
    "* $L(x, λ) = x^T log_2 x + λ^T(Ax - b)$.\n",
    "\n",
    "Производная функции Лагранжа $\\frac{dL(x, λ)}{dx}$:\n",
    "* $\\frac{dL(x, λ)}{dx} = log_2 x + \\frac{1}{ln2} + A^Tλ = 0$.\n",
    "\n",
    "Выражаем значение $x^*$:\n",
    "* $log_2 x^* + \\frac{1}{ln2} + A^Tλ = 0$\n",
    "* $log_2 x^* = -(\\frac{1}{ln2} + A^Tλ)$\n",
    "* $x^* = 2^{-(\\frac{1}{ln2} + A^Tλ)}$\n",
    "\n",
    "Подставляем полученное значение $x^*$ в $L(x, λ)$:\n",
    "* $g(λ) = (2^{-(\\frac{1}{ln2} + A^Tλ)})^T (-(\\frac{1}{ln2} + A^Tλ)) + λ(A2^{-(\\frac{1}{ln2} + A^Tλ)} - b) = -2^{-(\\frac{1}{ln2} + λ^TA)} (\\frac{1}{ln2} + A^Tλ) + λ(A2^{-(\\frac{1}{ln2} + A^Tλ)} - b)$\n",
    "\n",
    "Таким образом ***двойственная задача*** выглядит следующим образом:\n",
    "* Целевая функция: .\n",
    "* Ограничений нет."
   ]
  },
  {
   "cell_type": "code",
   "execution_count": 36,
   "metadata": {},
   "outputs": [
    {
     "data": {
      "text/plain": [
       "array([[1.37045771e-09, 5.10535282e-18, 3.19084551e-19]])"
      ]
     },
     "execution_count": 36,
     "metadata": {},
     "output_type": "execute_result"
    }
   ],
   "source": [
    "A = np.array([[3, 4, 1], [2, 5, 7]])\n",
    "λ = np.array([[4], [8]])\n",
    "2 ** (-(1/np.log(2) + A.T @ λ)).T"
   ]
  },
  {
   "cell_type": "code",
   "execution_count": 37,
   "metadata": {},
   "outputs": [
    {
     "data": {
      "text/plain": [
       "array([[1.37045771e-09, 5.10535282e-18, 3.19084551e-19]])"
      ]
     },
     "execution_count": 37,
     "metadata": {},
     "output_type": "execute_result"
    }
   ],
   "source": [
    "2 ** (-(1/np.log(2) + λ.T @ A))"
   ]
  },
  {
   "cell_type": "markdown",
   "metadata": {},
   "source": [
    "# 2) Генерация и решение тестовых примеров с помощью встроенных методов."
   ]
  },
  {
   "cell_type": "code",
   "execution_count": null,
   "metadata": {},
   "outputs": [],
   "source": []
  },
  {
   "cell_type": "markdown",
   "metadata": {},
   "source": [
    "# 3) Реализация и тестирование метода Ньютона."
   ]
  },
  {
   "cell_type": "code",
   "execution_count": null,
   "metadata": {},
   "outputs": [],
   "source": []
  }
 ],
 "metadata": {
  "kernelspec": {
   "display_name": "cplex",
   "language": "python",
   "name": "python3"
  },
  "language_info": {
   "codemirror_mode": {
    "name": "ipython",
    "version": 3
   },
   "file_extension": ".py",
   "mimetype": "text/x-python",
   "name": "python",
   "nbconvert_exporter": "python",
   "pygments_lexer": "ipython3",
   "version": "3.8.18"
  }
 },
 "nbformat": 4,
 "nbformat_minor": 2
}
