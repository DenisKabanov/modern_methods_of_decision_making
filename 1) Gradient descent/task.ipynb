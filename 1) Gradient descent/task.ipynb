{
 "cells": [
  {
   "cell_type": "markdown",
   "metadata": {},
   "source": [
    "# Задание"
   ]
  },
  {
   "cell_type": "markdown",
   "metadata": {},
   "source": [
    "Дана следующая задача: $(x−μ_0)^⊤A(x−μ_0) \\to min$\n",
    "\n",
    "При ограничении евклидовой нормой: $∥x∥^2_2=∥x∥^2≤1$, что эквивалентно $(\\sqrt{\\sum_{i=1}^{n}|x_i|^2})^2=\\sum_{i=1}^{n}x_i^2=x_1^2+...+x_n^2≤1$\n",
    "\n",
    "Где: где $x∈R^n$, $A$ - симметричная, положительно определенная матрица, $μ_0= (1, 1, . . . , 1)^⊤∈R^n$.\n",
    "1) Исследовать задачу на выпуклость.\n",
    "2) Для каждого значения $n∈\\{10, 20, ..., 100\\}$ сгенерировать $N=100$ тестовых примеров. В каждом случае найдите глобальный минимум, $x^∗∈R^n$, с помощью CVX. Проверьте, что в точке минимума выполняется условие оптимальности (т.е. вектора градиента к ограничению и антиградиента к целевой функциисонаправлены).\n",
    "3) Для каждого значения $n∈\\{10, 20, ..., 100\\}$ и для каждого тестового примера $N_i,\\ i$ от 1 до 100 сгенерировать по $p=100$ начальных точек. В зависимости от варианта (v3) реализуйте следующие методы решения задачи для заданной точности $ε=0.01$ (Используйте в качестве точности либо разность между текущим значением функции и оптимальным (из солвера), либо некоторую меру выполнения условий оптимальности):\n",
    "    * Gradient descent for strongly convex and Lipschitz functions ([Section 3.4.1, Theorem 3.9](https://arxiv.org/pdf/1405.4980#page=50));\n",
    "    * Gradient descent for smooth functions ([Section 3.2, Theorem 3.7](https://arxiv.org/pdf/1405.4980#page=43));\n",
    "    \n",
    "    $\\to$ Gradient descent for strongly convex and smooth functions ([Section 3.4.2, Theorem 3.12](https://arxiv.org/pdf/1405.4980#page=52));\n",
    "    * Conditional gradient descent, aka Frank-Wolfe ([Section 3.3, Theorem 3.8](https://arxiv.org/pdf/1405.4980#page=45));\n",
    "    * Exact line search ([Section 9.2](https://web.stanford.edu/~boyd/cvxbook/bv_cvxbook.pdf#page=477));\n",
    "    * Backtracking line search  ([Section 9.2](https://web.stanford.edu/~boyd/cvxbook/bv_cvxbook.pdf#page=477)).\n",
    "4) Объясните принцип работы метода, опишите его преимущества и недостатки.\n",
    "5) В качестве результата работы метода:\n",
    "    * Для каждого значения $n∈\\{10, 20, ..., 100\\}$ подсчитайтесреднее время работы метода и среднее число итераций (усреднение проводится по всем начальным точкам и повсем тестовым примерам);\n",
    "    * Для одного тестового примера при $n=10$ и нескольких различных начальных точек постройте зависимость точности от числа итераций. Зависит ли скорость сходимости метода от отношения максимального и минимального собственных чисел матрицы A? Сравните полученные результаты с теоретическими верхними оценками (толькодля вариантов 1-4, обратите внимание, что для сравнения с теоретическими верхними оценками необходимо считать точность тем же способом, как это делается в соответствующей оценке).\n",
    "6) Оформите отчет с последовательным изложением пунктов 1-5 и выводами."
   ]
  },
  {
   "cell_type": "markdown",
   "metadata": {},
   "source": [
    "# Настройки/Импорты"
   ]
  },
  {
   "cell_type": "markdown",
   "metadata": {},
   "source": [
    "Версии важных модулей:\n",
    "cvxpy==1.4.3"
   ]
  },
  {
   "cell_type": "code",
   "execution_count": 36,
   "metadata": {},
   "outputs": [],
   "source": [
    "import cvxpy as cp # солвер для задач\n",
    "import numpy as np # для работы с массивами\n",
    "from sklearn.datasets import make_spd_matrix # для генерации симметричной положительно определённой матрицы A для поставленной задачи\n",
    "\n",
    "from tqdm import tqdm # для отслеживания прогресса\n",
    "from matplotlib import pyplot as plt # для построения графиков/вывода изображений"
   ]
  },
  {
   "cell_type": "code",
   "execution_count": 2,
   "metadata": {},
   "outputs": [],
   "source": [
    "n = np.arange(10, 101, 10) # возможные значения n (число переменных в задаче ~ размерность пространства) от 10 до 100 включительно\n",
    "N = 100 # число тестовых примеров для каждого значения n\n",
    "p = 100 # число начальных точек для каждого примера N\n",
    "ε = 0.01 # необходимая точность"
   ]
  },
  {
   "cell_type": "markdown",
   "metadata": {},
   "source": [
    "# 1) Исследование на выпуклость"
   ]
  },
  {
   "cell_type": "markdown",
   "metadata": {},
   "source": [
    "Определения: \n",
    "1) ***Smooth function*** — это функция, которая имеет непрерывные производные до некоторого желаемого порядка в некоторой области.\n",
    "2) ***Strongly convex function*** — функция, для которой справедливо неравенство: $f″≥m>0$. Такая функция является *строго выпуклой* и растёт не медленнее квадратичной."
   ]
  },
  {
   "cell_type": "markdown",
   "metadata": {},
   "source": [
    "Данная функция $(x−μ_0)^⊤A(x−μ_0)$ — квадратичная. По критерию Сильвестра она выпукла тогда и только тогда, когда матрица $A$ — положительно определена, то есть когда все её угловые миноры $\\Delta_i$ положительны. Согласно условию задания матрица $A$ уже симметричная и положительно определённая — поэтому функция является выпуклой."
   ]
  },
  {
   "cell_type": "markdown",
   "metadata": {},
   "source": [
    "Примеры:\n",
    "* Если $n=2$, функция будет иметь следующий вид (квадратичный):<br>\n",
    "    $a_{11}(x_1-μ_1)^2+a_{22}(x_2-μ_2)^2+2a_{12}(x_1-μ_1)(x_2-μ_2) \\to min$\n",
    "\n",
    "    А её ограничение:<br>\n",
    "    $x_1^2+x_2^2≤1$\n",
    "\n",
    "    Пусть $A$ — $\\begin{bmatrix} 5 & 3 \\\\ 3 & 5 \\end{bmatrix}$, $μ_0= (1, 1)^T$. Тогда график функции (эллипсоид) вместе с ограничением примет следующий вид:<br>\n",
    "    ![Пример в 2D](./images/example_2d.png)\n",
    "\n",
    "* Если $n=3$, функция будет иметь следующий вид (квадратичный):<br>\n",
    "    $a_{11}(x_1-μ_1)^2+a_{22}(x_2-μ_2)^2+a_{33}(x_3-μ_3)^2+2a_{12}(x_1-μ_1)(x_2-μ_2)+2a_{13}(x_1-μ_1)(x_3-μ_3)+2a_{23}(x_2-μ_2)(x_3-μ_3) \\to min$\n",
    "\n",
    "    А её ограничение:<br>\n",
    "    $x_1^2+x_2^2+x_3^2≤1$\n",
    "\n",
    "    Пусть $A$ — единичная матрица, то есть на её диагонали стоят единицы, а всё остальное — нули (такая матрица положительно определена), $μ_0= (1, 1, 1)^T$. Тогда часть функции без квадратов занулится и её график (станет сферой, иначе — эллипсоид) вместе с ограничением примет следующий вид:<br>\n",
    "    ![Пример в 3D](./images/example_3d.png)"
   ]
  },
  {
   "cell_type": "markdown",
   "metadata": {},
   "source": [
    "# 2) Генерация и решение тестовых примеров с помощью встроенных методов."
   ]
  },
  {
   "cell_type": "markdown",
   "metadata": {},
   "source": [
    "**Важно: в CVX по стандарту переменные идут не в виде столбца, а в виде строки. Однако, при желании можно заменить shape=(n) на shape=(n, 1) чтобы всё было как в обычной математике.**"
   ]
  },
  {
   "cell_type": "code",
   "execution_count": 7,
   "metadata": {},
   "outputs": [
    {
     "name": "stderr",
     "output_type": "stream",
     "text": [
      "100%|██████████| 10/10 [00:42<00:00,  4.20s/it]\n"
     ]
    }
   ],
   "source": [
    "data = {} # словарь под данные для теста\n",
    "\n",
    "for dim in tqdm(n): # идём по возможному числу переменных (размерности пространства)\n",
    "    data[dim] = dict.fromkeys(range(N), {}) # подсловарь под тест-кейсы для рассматриваемой размерности dim (получилась тройная вложенность словаря)\n",
    "    for i in range(N): # идём по числу тест-кейсов\n",
    "        # решаем задачу с помощью солвера\n",
    "        A = make_spd_matrix(n_dim=dim) # генерируем случайную симметричную положительно определённую матрицу A\n",
    "        x = cp.Variable(shape=(dim)) # значения переменных \n",
    "        μ = np.ones(shape=(dim)) # смещение центра функции\n",
    "        objective = cp.Minimize(cp.quad_form(x-μ, A)) # минимизируем квадратичную функцию\n",
    "        # objective = cp.Minimize((x-μ).T @ A @ (x-μ)) # как должно быть с обычной математикой (не запустить, так как CVX считает такую проблему не выпуклой)\n",
    "        constraints = [cp.sum_squares(x) <= 1] # накладываемое ограничение — сумма квадратов переменных меньше или равна 1\n",
    "        problem = cp.Problem(objective, constraints) # создаём объект решаемой задачи\n",
    "        result = problem.solve(solver=cp.ECOS) # решаем поставленную проблему с помощью solver\n",
    "\n",
    "        data[dim][i][\"A\"] = A # запоминаем матрицу A\n",
    "        data[dim][i][\"X opt solver\"] = x.value # оптимальное значение X от встроенного солвера\n",
    "        data[dim][i][\"Result solver\"] = result # ответ от встроенного солвера\n",
    "\n",
    "        data[dim][i][\"X opt function\"] = None # оптимальное значение X от написанной функции\n",
    "        data[dim][i][\"Result function\"] = None # ответ от написанной функции"
   ]
  },
  {
   "cell_type": "code",
   "execution_count": 9,
   "metadata": {},
   "outputs": [
    {
     "data": {
      "text/plain": [
       "{'A': array([[ 3.88523565, -1.92350291,  0.18945252,  0.08218569, -1.89324596,\n",
       "         -2.15379709,  0.486222  ,  0.28015441, -3.15035418, -0.3297395 ],\n",
       "        [-1.92350291,  1.77091814,  0.11262044, -0.06428775,  1.12673735,\n",
       "          1.25389767, -0.43409304, -0.25127061,  1.64772897,  0.0849678 ],\n",
       "        [ 0.18945252,  0.11262044,  0.42057856, -0.11548254, -0.11098198,\n",
       "         -0.04348646,  0.14242744, -0.00934242, -0.17664352, -0.05067927],\n",
       "        [ 0.08218569, -0.06428775, -0.11548254,  0.48183918,  0.08992349,\n",
       "          0.02571535,  0.07629461, -0.07045691, -0.066982  , -0.12519616],\n",
       "        [-1.89324596,  1.12673735, -0.11098198,  0.08992349,  1.40619562,\n",
       "          1.14157509, -0.22376344, -0.08900254,  1.66125201,  0.06856734],\n",
       "        [-2.15379709,  1.25389767, -0.04348646,  0.02571535,  1.14157509,\n",
       "          2.03873961, -0.398548  , -0.2764925 ,  2.18551622,  0.14581385],\n",
       "        [ 0.486222  , -0.43409304,  0.14242744,  0.07629461, -0.22376344,\n",
       "         -0.398548  ,  0.64615392,  0.0598251 , -0.66592866,  0.01312278],\n",
       "        [ 0.28015441, -0.25127061, -0.00934242, -0.07045691, -0.08900254,\n",
       "         -0.2764925 ,  0.0598251 ,  0.36594623, -0.14399766,  0.17115587],\n",
       "        [-3.15035418,  1.64772897, -0.17664352, -0.066982  ,  1.66125201,\n",
       "          2.18551622, -0.66592866, -0.14399766,  3.43646239,  0.28827852],\n",
       "        [-0.3297395 ,  0.0849678 , -0.05067927, -0.12519616,  0.06856734,\n",
       "          0.14581385,  0.01312278,  0.17115587,  0.28827852,  0.58846026]]),\n",
       " 'X opt solver': array([-0.10635515,  0.39643269,  0.23123503,  0.1770229 ,  0.39982092,\n",
       "         0.47866068,  0.19809248,  0.17650298,  0.47861932,  0.24141203]),\n",
       " 'Result solver': 2.8375009003692595,\n",
       " 'X opt function': None,\n",
       " 'Result function': None}"
      ]
     },
     "execution_count": 9,
     "metadata": {},
     "output_type": "execute_result"
    }
   ],
   "source": [
    "data[10][0] # тест-кейс 0 для для 10 переменных"
   ]
  },
  {
   "cell_type": "markdown",
   "metadata": {},
   "source": [
    "# 3) Реализация и тестирование градиентного спуска для строго выпуклых и гладких функций."
   ]
  },
  {
   "cell_type": "markdown",
   "metadata": {},
   "source": [
    "**Определения:**\n",
    "1) Функция $f(x)$ называется ***α-strongly convex*** (строго выпуклой с параметром *α > 0*), если для $∀x ∈ dom(f)$ выполняется: $f(x)-\\frac{α}{2}∥x∥^2$ — выпукла. <br>\n",
    "Или, что аналогично, $(∇f(x) − ∇f(y))^T(x-y)≥α∥x-y∥^2$. Для дважды дифференцируемых функций это означает, что $\\lambda_{min}(∇^2f(x))≥α$.\n",
    "2) Непрерывно дифференцируемая функция $f(x)$ называется ***β-smooth*** (гладкой с параметром *β*), если её градиент $∇f$ — *β-Липшицев*. <br>\n",
    "То есть если она обладает Липшицевым градиентом с константой *β*: $∥∇f(x) − ∇f(y)∥ ≤ β∥x − y∥$. Для дважды дифференцируемых функций это означает, что $\\lambda_{max}(∇^2f(x))≤β$."
   ]
  },
  {
   "cell_type": "markdown",
   "metadata": {},
   "source": [
    "Strong convexity (строгая выпуклость) даёт нижнюю оценку кривизны функции значением *α*. Другими словами, все собственные значения Гессиана α-strongly convex function ограничены снизу величиной *α*. <br>\n",
    "*β-smoothness* ограничивает кривизну функции (изменение градиента) некоторой константой *β*. Это эквивалентно тому, что собственные значения Гессиана меньше *β*. <br>\n",
    "Объединив свойства *α-strongly convex* и *β-smooth* функций получаем, что собственные значения Гессиана находятся в области $α ≤ ∇^2f(x) ≤ β$."
   ]
  },
  {
   "cell_type": "markdown",
   "metadata": {},
   "source": [
    "***Теорема:*** Если $f$ это *β-smooth* и *α-strongly convex function* на $R^n$. Тогда градиентный спуск с шагом $η = \\frac{2}{α+β}$ удовлетворяет выражению (скорость сходимости) <br>\n",
    "$f(x_{t+1}) − f(x^∗) ≤ \\frac{β}{2}e^{−\\frac{4t}{k+1}}∥x_1-x^*∥^2$, где $k=\\frac{β}{α}$."
   ]
  },
  {
   "cell_type": "markdown",
   "metadata": {},
   "source": [
    "В рассматриваемой задаче $f(x)=(x−μ_0)^⊤A(x−μ_0) \\to min$ градиент функции $f(x)$ есть: <br> \n",
    "* $∇f(x) = 2A(x-μ_0)$\n",
    "\n",
    "Гессиан же есть матрица $2A$. <br>\n",
    "* $∇^2f(x)=2A$\n",
    "\n",
    "Параметр α строгой выпуклости считается по формуле:\n",
    "* $α=2\\lambda_{min}(A)$\n",
    "\n",
    "Параметр β гладкости считается по формуле:\n",
    "* $β=2\\lambda_{max}(A)$."
   ]
  },
  {
   "cell_type": "markdown",
   "metadata": {},
   "source": [
    "Идём в сторону, противоположную градиенту, так как он направлен в сторону наискорейшего роста, а нам нужно обратное — минимизировать функцию."
   ]
  },
  {
   "cell_type": "code",
   "execution_count": 81,
   "metadata": {},
   "outputs": [],
   "source": [
    "def func(x: np.array, A: np.array, μ: np.array) -> np.float32:\n",
    "    \"\"\"\n",
    "    Функция из задачи (значение x в виде столбца, а не строки, как было во встроенном методе!).\\n\n",
    "    Parameters:\n",
    "        * x: текущие значения x\n",
    "        * A: матрица A\n",
    "        * μ: смещение центра функции\\n\n",
    "    Returns:\n",
    "        * np.float32: значение функции в точке x\n",
    "    \"\"\"\n",
    "    return (x-μ).T @ A @ (x-μ) # значение функции задачи (было бы (x-μ) @ A @ (x-μ).reshape((dim,1)), если бы x шёл как строка, а не столбец)"
   ]
  },
  {
   "cell_type": "code",
   "execution_count": 82,
   "metadata": {},
   "outputs": [],
   "source": [
    "def func_der(x: np.array, A: np.array, μ: np.array) -> np.array:\n",
    "    \"\"\"\n",
    "    Производная функция из задачи (значение x в виде столбца, а не строки, как было во встроенном методе!).\\n\n",
    "    Parameters:\n",
    "        * x: текущие значения x\n",
    "        * A: матрица A\n",
    "        * μ: смещение центра функции\\n\n",
    "    Returns:\n",
    "        * np.float32: значение функции в точке x\n",
    "    \"\"\"\n",
    "    return 2 * A @ (x - μ) # значение производной функции задачи\n",
    "    # return 2 * A @ x # значение производной функции задачи"
   ]
  },
  {
   "cell_type": "code",
   "execution_count": 83,
   "metadata": {},
   "outputs": [],
   "source": [
    "def constraints(x) -> bool:\n",
    "    \"\"\"\n",
    "    Функция для проверка решения на допустимость.\\n\n",
    "    Parameters:\n",
    "        * x: текущие значения x\\n\n",
    "    Returns:\n",
    "        * bool: True — если решение допустимо, иначе — False\n",
    "    \"\"\"\n",
    "    return np.linalg.norm(x, ord=2) ** 2 <= 1 # квадрат евклидовой нормы решения должен быть ≤ 1"
   ]
  },
  {
   "cell_type": "code",
   "execution_count": 84,
   "metadata": {},
   "outputs": [],
   "source": [
    "μ = np.ones(shape=(2)) # смещение центра функции\n",
    "X = [] # список под значения переменных x\n",
    "Y = [] # список под значения целевой функции"
   ]
  },
  {
   "cell_type": "code",
   "execution_count": 85,
   "metadata": {},
   "outputs": [],
   "source": [
    "dim = 2\n",
    "\n",
    "# ограничение задачи — квадрат евклидовой нормы вектора x ≤ 1\n",
    "x = np.random.randint(low=0, high=100, size=(dim, 1)) # генерируем случайные числа размера числа переменных (изначально они могут нарушать ограничения)\n",
    "x = x/np.linalg.norm(x, ord=2) # делим значение сгенерированного вектора на его евклидову норму, чтобы новая норма была точно ≤ 1 (на самом деле она будет лишь слегка меньше 1, но такая точка уже не нарушает ограничение задачи)\n",
    "A = np.array([[5,3], [3,5]]) # симметричная положительно определённая матрица\n",
    "μ = np.ones(shape=(dim, 1)) # смещение центра функции\n",
    "\n",
    "# считаем шаг для функции\n",
    "eigenvalues = np.linalg.eigvals(A) # собственные значения матрицы A\n",
    "α = 2 * eigenvalues.min() # параметр выпуклости функции, в данном случае равен 2 * минимальное собственное значение матрицы A\n",
    "β = 2 * eigenvalues.max() # параметр гладкости функции, в данном случае равен 2 * максимальное собственное значение матрицы A\n",
    "η = 2 / (α + β) # значение шага\n",
    "\n",
    "y = func(x, A, μ)[0] # считаем начальное значение функции\n",
    "X.append(x) # запоминаем начальную точку (всегда будет идти под индексом 0)\n",
    "Y.append(y) # запоминаем начальное решение"
   ]
  },
  {
   "cell_type": "code",
   "execution_count": 86,
   "metadata": {},
   "outputs": [],
   "source": [
    "while constraints(x):\n",
    "    x = x - η * func_der(x, A, μ) # обновляем значение x\n",
    "    y = func(x, A, μ)[0] # считаем начальное значение функции\n",
    "    X.append(x) # запоминаем начальную точку (всегда будет идти под индексом 0)\n",
    "    Y.append(y) # запоминаем начальное решение"
   ]
  },
  {
   "cell_type": "code",
   "execution_count": 87,
   "metadata": {},
   "outputs": [
    {
     "data": {
      "image/png": "[encoded data removed]",
      "text/plain": [
       "<Figure size 800x500 with 1 Axes>"
      ]
     },
     "metadata": {},
     "output_type": "display_data"
    }
   ],
   "source": [
    "plt.figure(figsize=(8,5)) # задание размера фигуры\n",
    "plt.plot(range(len(X)), Y) # строим график\n",
    "plt.title(\"Значение целевой функции в зависимости от итерации\") # название фигур\n",
    "plt.xlabel(\"Итерация\") # подпись по оси x\n",
    "plt.ylabel(\"Значение функции\") # подпись по оси y\n",
    "plt.show() # показ фигуры"
   ]
  },
  {
   "cell_type": "code",
   "execution_count": 88,
   "metadata": {},
   "outputs": [],
   "source": [
    "def gradient_descent(func, constr, x_init, ε) -> list:\n",
    "    \"\"\"\n",
    "    Метод градиентного спуска для подсчёта оптимума функции.\\n\n",
    "    Parameters:\n",
    "        * func: функция, что нужно минимизировать\n",
    "        * constr: функция-ограничение, проверяющая значение x\n",
    "        * x_init: изначальное значение x\n",
    "        * ε: необходимая точность ответа\\n\n",
    "    Returns:\n",
    "        * list: оптимальное значение функции и x\n",
    "    \"\"\"\n",
    "    "
   ]
  },
  {
   "cell_type": "code",
   "execution_count": 6,
   "metadata": {},
   "outputs": [
    {
     "name": "stdout",
     "output_type": "stream",
     "text": [
      "1.3725829956461402 [0.70710678 0.70710678]\n"
     ]
    }
   ],
   "source": [
    "A = np.array([[5,3], [3,5]]) # генерируем случайную симметричную положительно определённую матрицу A\n",
    "x = cp.Variable(shape=(2)) # значения переменных \n",
    "μ = np.ones(shape=(2)) # смещение центра функции\n",
    "objective = cp.Minimize(cp.quad_form(x-μ, A)) # минимизируем квадратичную функцию\n",
    "# objective = cp.Minimize((x-μ).T @ A @ (x-μ)) # как должно быть с обычной математикой (не запустить, так как CVX считает такую проблему не выпуклой)\n",
    "constraints = [cp.sum_squares(x) <= 1] # накладываемое ограничение — сумма квадратов переменных меньше или равна 1\n",
    "problem = cp.Problem(objective, constraints) # создаём объект решаемой задачи\n",
    "result = problem.solve(solver=cp.ECOS) # решаем поставленную проблему с помощью solver\n",
    "\n",
    "print(result, x.value)"
   ]
  },
  {
   "cell_type": "markdown",
   "metadata": {},
   "source": [
    "# 4) Принцип работы метода"
   ]
  },
  {
   "cell_type": "markdown",
   "metadata": {},
   "source": [
    "1) Генерируем случайное начальное решение *x*;\n",
    "2) "
   ]
  },
  {
   "cell_type": "markdown",
   "metadata": {},
   "source": [
    "# 5) Результаты работы метода"
   ]
  },
  {
   "cell_type": "code",
   "execution_count": null,
   "metadata": {},
   "outputs": [],
   "source": []
  }
 ],
 "metadata": {
  "kernelspec": {
   "display_name": "cplex",
   "language": "python",
   "name": "python3"
  },
  "language_info": {
   "codemirror_mode": {
    "name": "ipython",
    "version": 3
   },
   "file_extension": ".py",
   "mimetype": "text/x-python",
   "name": "python",
   "nbconvert_exporter": "python",
   "pygments_lexer": "ipython3",
   "version": "3.8.18"
  }
 },
 "nbformat": 4,
 "nbformat_minor": 2
}
